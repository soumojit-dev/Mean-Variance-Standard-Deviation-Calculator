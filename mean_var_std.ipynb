{
 "cells": [
  {
   "cell_type": "markdown",
   "id": "92b8bb23",
   "metadata": {},
   "source": [
    "# Data Analysis with Python - Mini Project 1"
   ]
  },
  {
   "cell_type": "markdown",
   "id": "9a8d74a1",
   "metadata": {},
   "source": [
    "## Mean-Variance-Standard Deviation Calculator"
   ]
  },
  {
   "cell_type": "code",
   "execution_count": 10,
   "id": "8ebf8711",
   "metadata": {},
   "outputs": [
    {
     "data": {
      "text/plain": [
       "{'mean': [[3.0, 4.0, 5.0], [1.0, 4.0, 7.0], 4.0],\n",
       " 'variance': [[6.0, 6.0, 6.0],\n",
       "  [0.6666666666666666, 0.6666666666666666, 0.6666666666666666],\n",
       "  6.666666666666667],\n",
       " 'standard deviation': [[2.449489742783178,\n",
       "   2.449489742783178,\n",
       "   2.449489742783178],\n",
       "  [0.816496580927726, 0.816496580927726, 0.816496580927726],\n",
       "  2.581988897471611],\n",
       " 'min': [[0, 1, 2], [0, 3, 6], 0],\n",
       " 'sum': [[9, 12, 15], [3, 12, 21], 36]}"
      ]
     },
     "execution_count": 10,
     "metadata": {},
     "output_type": "execute_result"
    }
   ],
   "source": [
    "# Create a function named calculate() in that uses Numpy to output the mean, variance, standard deviation, max, min, and sum of the rows, columns, and elements in a 3 x 3 matrix.\n",
    "\n",
    "# The input of the function should be a list containing 9 digits. The function should convert the list into a 3 x 3 Numpy array, and then return a dictionary containing the mean, variance, standard deviation, max, min, and sum along both axes and for the flattened matrix.\n",
    "\n",
    "# The returned dictionary should follow this format:\n",
    "\n",
    "# {\n",
    "#   'mean': [axis1, axis2, flattened],\n",
    "#   'variance': [axis1, axis2, flattened],\n",
    "#   'standard deviation': [axis1, axis2, flattened],\n",
    "#   'max': [axis1, axis2, flattened],\n",
    "#   'min': [axis1, axis2, flattened],\n",
    "#   'sum': [axis1, axis2, flattened]\n",
    "# }\n",
    "# If a list containing less than 9 elements is passed into the function, it should raise a ValueError exception with the message: \"List must contain nine numbers.\" The values in the returned dictionary should be lists and not Numpy arrays.\n",
    "\n",
    "# For example, calculate([0,1,2,3,4,5,6,7,8]) should return:\n",
    "\n",
    "# {\n",
    "#   'mean': [[3.0, 4.0, 5.0], [1.0, 4.0, 7.0], 4.0],\n",
    "#   'variance': [[6.0, 6.0, 6.0], [0.6666666666666666, 0.6666666666666666, 0.6666666666666666], 6.666666666666667],\n",
    "#   'standard deviation': [[2.449489742783178, 2.449489742783178, 2.449489742783178], [0.816496580927726, 0.816496580927726, 0.816496580927726], 2.581988897471611],\n",
    "#   'max': [[6, 7, 8], [2, 5, 8], 8],\n",
    "#   'min': [[0, 1, 2], [0, 3, 6], 0],\n",
    "#   'sum': [[9, 12, 15], [3, 12, 21], 36]\n",
    "# }\n",
    "\n",
    "\n",
    "import numpy as np\n",
    "\n",
    "def calculate(list):\n",
    "    if len(list)!= 9:\n",
    "        raise ValueError('List must contain nine numbers.')\n",
    "    \n",
    "    matrix = np.array(list).reshape(3,3)\n",
    "    \n",
    "    calculations = {'mean': [matrix.mean(axis=0).tolist(),\n",
    "                             matrix.mean(axis=1).tolist(),\n",
    "                             matrix.mean().item()],\n",
    "                             \n",
    "                    'variance': [matrix.var(axis=0).tolist(),\n",
    "                                 matrix.var(axis=1).tolist(),\n",
    "                                 matrix.var().item()],\n",
    "\n",
    "                    'standard deviation': [matrix.std(axis=0).tolist(),\n",
    "                                           matrix.std(axis=1).tolist(),\n",
    "                                           matrix.std().tolist()],\n",
    "                    'min': [matrix.min(axis=0).tolist(),\n",
    "                            matrix.min(axis=1).tolist(),\n",
    "                            matrix.min().item()],\n",
    "                    'sum': [matrix.sum(axis=0).tolist(),\n",
    "                            matrix.sum(axis=1).tolist(),\n",
    "                            matrix.sum().item()]      \n",
    "        }\n",
    "    return calculations\n",
    "\n",
    "calculate([0,1,2,3,4,5,6,7,8])\n"
   ]
  }
 ],
 "metadata": {
  "kernelspec": {
   "display_name": "base",
   "language": "python",
   "name": "python3"
  },
  "language_info": {
   "codemirror_mode": {
    "name": "ipython",
    "version": 3
   },
   "file_extension": ".py",
   "mimetype": "text/x-python",
   "name": "python",
   "nbconvert_exporter": "python",
   "pygments_lexer": "ipython3",
   "version": "3.13.5"
  }
 },
 "nbformat": 4,
 "nbformat_minor": 5
}
